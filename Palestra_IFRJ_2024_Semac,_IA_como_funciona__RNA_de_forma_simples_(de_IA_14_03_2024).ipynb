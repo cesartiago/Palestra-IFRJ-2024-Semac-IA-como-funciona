{
  "nbformat": 4,
  "nbformat_minor": 0,
  "metadata": {
    "colab": {
      "provenance": []
    },
    "kernelspec": {
      "name": "python3",
      "display_name": "Python 3"
    },
    "language_info": {
      "name": "python"
    }
  },
  "cells": [
    {
      "cell_type": "code",
      "source": [
        "import numpy as np\n",
        "\n",
        "# Definindo os pesos iniciais e a taxa de aprendizado\n",
        "w1 = -0.02  # Peso da entrada x1\n",
        "w2 = 0.02  # Peso da entrada x2\n",
        "lr = 0.25  # Taxa de aprendizado\n",
        "\n",
        "# Definindo as entradas e as saídas desejadas para a porta AND\n",
        "entradas = [\n",
        "    [-1, 0, 0],  # entrada 1 com bias -1\n",
        "    [-1, 0, 1],  # entrada 2 com bias -1\n",
        "    [-1, 1, 0],  # entrada 3 com bias -1\n",
        "    [-1, 1, 1]   # entrada 4 com bias -1\n",
        "]\n",
        "saidas_desejadas = [0, 0, 0, 1]  # saídas da função AND"
      ],
      "metadata": {
        "id": "RvkIOldSkmzL"
      },
      "execution_count": null,
      "outputs": []
    },
    {
      "cell_type": "code",
      "source": [
        "# Variável de controle para repetir o treinamento até que o perceptron aprenda\n",
        "aprendeu = False\n",
        "epocas = 0  # Contador de épocas (número de rodadas de treinamento)"
      ],
      "metadata": {
        "id": "Obdb7qaDkq9N"
      },
      "execution_count": null,
      "outputs": []
    },
    {
      "cell_type": "code",
      "source": [
        "\n",
        "# Loop de treinamento\n",
        "while not aprendeu: # a condição é verificada apenas ao final de cada época.\n",
        "    aprendeu = True  # Assume que o perceptron aprendeu; se houver erro, o valor mais abaixo será ajustado para False.\n",
        "    epocas += 1\n",
        "    print(f\"\\nÉpoca {epocas}\")\n",
        "\n",
        "    # Para cada entrada e saída desejada, atualizamos os pesos se necessário\n",
        "    for i in range(len(entradas)):\n",
        "        x = entradas[i]  # Entrada atual\n",
        "        t = saidas_desejadas[i]  # Saída desejada para essa entrada\n",
        "\n",
        "        # Calculando a saída do perceptron (produto escalar)\n",
        "        soma =  x[0] + w1 * x[1] + w2 * x[2]\n",
        "        y = 1 if soma > 0 else 0  # Saída do perceptron: 1 se soma > 0, caso contrário 0\n",
        "\n",
        "        # Se a saída do perceptron for diferente da saída desejada, ajustamos os pesos\n",
        "        if y != t:\n",
        "            aprendeu = False  # Indica que houve erro, então não aprendeu completamente\n",
        "            w1 = w1 - lr * (y - t) * x[1]\n",
        "            w2 = w2 - lr * (y - t) * x[2]\n",
        "\n",
        "            print(f\"Ajustando pesos para entrada {x}:\")\n",
        "            print(f\"Novos pesos -> w1: {w1}, w2: {w2}\")\n",
        "\n",
        "# Exibindo os pesos finais após o treinamento\n",
        "print(\"\\nTreinamento concluído!\")\n",
        "print(f\"Pesos finais após {epocas} épocas: w1: {w1}, w2: {w2}\")\n",
        "\n",
        "#O ajuste dos pesos e o print só acontecem se o perceptron errar a classificação de uma entrada específica\n"
      ],
      "metadata": {
        "id": "MXUljCV1mHLs"
      },
      "execution_count": null,
      "outputs": []
    }
  ]
}